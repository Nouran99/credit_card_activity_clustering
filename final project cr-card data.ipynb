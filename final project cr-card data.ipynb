{
 "cells": [
  {
   "attachments": {},
   "cell_type": "markdown",
   "metadata": {},
   "source": [
    "importing and preprocessing data"
   ]
  },
  {
   "cell_type": "code",
   "execution_count": 1,
   "metadata": {},
   "outputs": [],
   "source": [
    "import pandas as pd\n",
    "import numpy as np\n",
    "from plotnine import *\n",
    "import seaborn as sns\n",
    "import matplotlib.pyplot as plt\n",
    "\n",
    "from sklearn.preprocessing import StandardScaler, QuantileTransformer, RobustScaler,MinMaxScaler\n",
    "from sklearn.neighbors import NearestNeighbors\n",
    "\n",
    "from sklearn.cluster import DBSCAN\n",
    "\n",
    "\n",
    "from sklearn.cluster import KMeans\n",
    "from sklearn.mixture import GaussianMixture\n",
    "\n",
    "from sklearn.metrics import silhouette_score"
   ]
  },
  {
   "cell_type": "code",
   "execution_count": 2,
   "metadata": {},
   "outputs": [
    {
     "data": {
      "text/html": [
       "<div>\n",
       "<style scoped>\n",
       "    .dataframe tbody tr th:only-of-type {\n",
       "        vertical-align: middle;\n",
       "    }\n",
       "\n",
       "    .dataframe tbody tr th {\n",
       "        vertical-align: top;\n",
       "    }\n",
       "\n",
       "    .dataframe thead th {\n",
       "        text-align: right;\n",
       "    }\n",
       "</style>\n",
       "<table border=\"1\" class=\"dataframe\">\n",
       "  <thead>\n",
       "    <tr style=\"text-align: right;\">\n",
       "      <th></th>\n",
       "      <th>CUST_ID</th>\n",
       "      <th>BALANCE</th>\n",
       "      <th>BALANCE_FREQUENCY</th>\n",
       "      <th>PURCHASES</th>\n",
       "      <th>ONEOFF_PURCHASES</th>\n",
       "      <th>INSTALLMENTS_PURCHASES</th>\n",
       "      <th>CASH_ADVANCE</th>\n",
       "      <th>PURCHASES_FREQUENCY</th>\n",
       "      <th>ONEOFF_PURCHASES_FREQUENCY</th>\n",
       "      <th>PURCHASES_INSTALLMENTS_FREQUENCY</th>\n",
       "      <th>CASH_ADVANCE_FREQUENCY</th>\n",
       "      <th>CASH_ADVANCE_TRX</th>\n",
       "      <th>PURCHASES_TRX</th>\n",
       "      <th>CREDIT_LIMIT</th>\n",
       "      <th>PAYMENTS</th>\n",
       "      <th>MINIMUM_PAYMENTS</th>\n",
       "      <th>PRC_FULL_PAYMENT</th>\n",
       "      <th>TENURE</th>\n",
       "    </tr>\n",
       "  </thead>\n",
       "  <tbody>\n",
       "    <tr>\n",
       "      <th>0</th>\n",
       "      <td>C10001</td>\n",
       "      <td>40.900749</td>\n",
       "      <td>0.818182</td>\n",
       "      <td>95.40</td>\n",
       "      <td>0.00</td>\n",
       "      <td>95.4</td>\n",
       "      <td>0.000000</td>\n",
       "      <td>0.166667</td>\n",
       "      <td>0.000000</td>\n",
       "      <td>0.083333</td>\n",
       "      <td>0.000000</td>\n",
       "      <td>0</td>\n",
       "      <td>2</td>\n",
       "      <td>1000.0</td>\n",
       "      <td>201.802084</td>\n",
       "      <td>139.509787</td>\n",
       "      <td>0.000000</td>\n",
       "      <td>12</td>\n",
       "    </tr>\n",
       "    <tr>\n",
       "      <th>1</th>\n",
       "      <td>C10002</td>\n",
       "      <td>3202.467416</td>\n",
       "      <td>0.909091</td>\n",
       "      <td>0.00</td>\n",
       "      <td>0.00</td>\n",
       "      <td>0.0</td>\n",
       "      <td>6442.945483</td>\n",
       "      <td>0.000000</td>\n",
       "      <td>0.000000</td>\n",
       "      <td>0.000000</td>\n",
       "      <td>0.250000</td>\n",
       "      <td>4</td>\n",
       "      <td>0</td>\n",
       "      <td>7000.0</td>\n",
       "      <td>4103.032597</td>\n",
       "      <td>1072.340217</td>\n",
       "      <td>0.222222</td>\n",
       "      <td>12</td>\n",
       "    </tr>\n",
       "    <tr>\n",
       "      <th>2</th>\n",
       "      <td>C10003</td>\n",
       "      <td>2495.148862</td>\n",
       "      <td>1.000000</td>\n",
       "      <td>773.17</td>\n",
       "      <td>773.17</td>\n",
       "      <td>0.0</td>\n",
       "      <td>0.000000</td>\n",
       "      <td>1.000000</td>\n",
       "      <td>1.000000</td>\n",
       "      <td>0.000000</td>\n",
       "      <td>0.000000</td>\n",
       "      <td>0</td>\n",
       "      <td>12</td>\n",
       "      <td>7500.0</td>\n",
       "      <td>622.066742</td>\n",
       "      <td>627.284787</td>\n",
       "      <td>0.000000</td>\n",
       "      <td>12</td>\n",
       "    </tr>\n",
       "    <tr>\n",
       "      <th>3</th>\n",
       "      <td>C10004</td>\n",
       "      <td>1666.670542</td>\n",
       "      <td>0.636364</td>\n",
       "      <td>1499.00</td>\n",
       "      <td>1499.00</td>\n",
       "      <td>0.0</td>\n",
       "      <td>205.788017</td>\n",
       "      <td>0.083333</td>\n",
       "      <td>0.083333</td>\n",
       "      <td>0.000000</td>\n",
       "      <td>0.083333</td>\n",
       "      <td>1</td>\n",
       "      <td>1</td>\n",
       "      <td>7500.0</td>\n",
       "      <td>0.000000</td>\n",
       "      <td>NaN</td>\n",
       "      <td>0.000000</td>\n",
       "      <td>12</td>\n",
       "    </tr>\n",
       "    <tr>\n",
       "      <th>4</th>\n",
       "      <td>C10005</td>\n",
       "      <td>817.714335</td>\n",
       "      <td>1.000000</td>\n",
       "      <td>16.00</td>\n",
       "      <td>16.00</td>\n",
       "      <td>0.0</td>\n",
       "      <td>0.000000</td>\n",
       "      <td>0.083333</td>\n",
       "      <td>0.083333</td>\n",
       "      <td>0.000000</td>\n",
       "      <td>0.000000</td>\n",
       "      <td>0</td>\n",
       "      <td>1</td>\n",
       "      <td>1200.0</td>\n",
       "      <td>678.334763</td>\n",
       "      <td>244.791237</td>\n",
       "      <td>0.000000</td>\n",
       "      <td>12</td>\n",
       "    </tr>\n",
       "  </tbody>\n",
       "</table>\n",
       "</div>"
      ],
      "text/plain": [
       "  CUST_ID      BALANCE  BALANCE_FREQUENCY  PURCHASES  ONEOFF_PURCHASES  \\\n",
       "0  C10001    40.900749           0.818182      95.40              0.00   \n",
       "1  C10002  3202.467416           0.909091       0.00              0.00   \n",
       "2  C10003  2495.148862           1.000000     773.17            773.17   \n",
       "3  C10004  1666.670542           0.636364    1499.00           1499.00   \n",
       "4  C10005   817.714335           1.000000      16.00             16.00   \n",
       "\n",
       "   INSTALLMENTS_PURCHASES  CASH_ADVANCE  PURCHASES_FREQUENCY  \\\n",
       "0                    95.4      0.000000             0.166667   \n",
       "1                     0.0   6442.945483             0.000000   \n",
       "2                     0.0      0.000000             1.000000   \n",
       "3                     0.0    205.788017             0.083333   \n",
       "4                     0.0      0.000000             0.083333   \n",
       "\n",
       "   ONEOFF_PURCHASES_FREQUENCY  PURCHASES_INSTALLMENTS_FREQUENCY  \\\n",
       "0                    0.000000                          0.083333   \n",
       "1                    0.000000                          0.000000   \n",
       "2                    1.000000                          0.000000   \n",
       "3                    0.083333                          0.000000   \n",
       "4                    0.083333                          0.000000   \n",
       "\n",
       "   CASH_ADVANCE_FREQUENCY  CASH_ADVANCE_TRX  PURCHASES_TRX  CREDIT_LIMIT  \\\n",
       "0                0.000000                 0              2        1000.0   \n",
       "1                0.250000                 4              0        7000.0   \n",
       "2                0.000000                 0             12        7500.0   \n",
       "3                0.083333                 1              1        7500.0   \n",
       "4                0.000000                 0              1        1200.0   \n",
       "\n",
       "      PAYMENTS  MINIMUM_PAYMENTS  PRC_FULL_PAYMENT  TENURE  \n",
       "0   201.802084        139.509787          0.000000      12  \n",
       "1  4103.032597       1072.340217          0.222222      12  \n",
       "2   622.066742        627.284787          0.000000      12  \n",
       "3     0.000000               NaN          0.000000      12  \n",
       "4   678.334763        244.791237          0.000000      12  "
      ]
     },
     "execution_count": 2,
     "metadata": {},
     "output_type": "execute_result"
    }
   ],
   "source": [
    "df = pd.read_csv(\"CC GENERAL.csv\")\n",
    "df.head()\n",
    "#importing the data"
   ]
  },
  {
   "cell_type": "code",
   "execution_count": 3,
   "metadata": {},
   "outputs": [
    {
     "name": "stdout",
     "output_type": "stream",
     "text": [
      "<class 'pandas.core.frame.DataFrame'>\n",
      "RangeIndex: 8950 entries, 0 to 8949\n",
      "Data columns (total 18 columns):\n",
      " #   Column                            Non-Null Count  Dtype  \n",
      "---  ------                            --------------  -----  \n",
      " 0   CUST_ID                           8950 non-null   object \n",
      " 1   BALANCE                           8950 non-null   float64\n",
      " 2   BALANCE_FREQUENCY                 8950 non-null   float64\n",
      " 3   PURCHASES                         8950 non-null   float64\n",
      " 4   ONEOFF_PURCHASES                  8950 non-null   float64\n",
      " 5   INSTALLMENTS_PURCHASES            8950 non-null   float64\n",
      " 6   CASH_ADVANCE                      8950 non-null   float64\n",
      " 7   PURCHASES_FREQUENCY               8950 non-null   float64\n",
      " 8   ONEOFF_PURCHASES_FREQUENCY        8950 non-null   float64\n",
      " 9   PURCHASES_INSTALLMENTS_FREQUENCY  8950 non-null   float64\n",
      " 10  CASH_ADVANCE_FREQUENCY            8950 non-null   float64\n",
      " 11  CASH_ADVANCE_TRX                  8950 non-null   int64  \n",
      " 12  PURCHASES_TRX                     8950 non-null   int64  \n",
      " 13  CREDIT_LIMIT                      8949 non-null   float64\n",
      " 14  PAYMENTS                          8950 non-null   float64\n",
      " 15  MINIMUM_PAYMENTS                  8637 non-null   float64\n",
      " 16  PRC_FULL_PAYMENT                  8950 non-null   float64\n",
      " 17  TENURE                            8950 non-null   int64  \n",
      "dtypes: float64(14), int64(3), object(1)\n",
      "memory usage: 1.2+ MB\n"
     ]
    }
   ],
   "source": [
    "#exploring the data\n",
    "df.info()"
   ]
  },
  {
   "cell_type": "code",
   "execution_count": 4,
   "metadata": {},
   "outputs": [
    {
     "data": {
      "text/plain": [
       "0"
      ]
     },
     "execution_count": 4,
     "metadata": {},
     "output_type": "execute_result"
    }
   ],
   "source": [
    "# check duplicated data\n",
    "df.duplicated().sum()"
   ]
  },
  {
   "cell_type": "code",
   "execution_count": 5,
   "metadata": {},
   "outputs": [],
   "source": [
    "# as we have few null values i choosed to drop it\n",
    "df.dropna(inplace=True)"
   ]
  },
  {
   "cell_type": "code",
   "execution_count": 6,
   "metadata": {},
   "outputs": [
    {
     "name": "stdout",
     "output_type": "stream",
     "text": [
      "<class 'pandas.core.frame.DataFrame'>\n",
      "Int64Index: 8636 entries, 0 to 8949\n",
      "Data columns (total 18 columns):\n",
      " #   Column                            Non-Null Count  Dtype  \n",
      "---  ------                            --------------  -----  \n",
      " 0   CUST_ID                           8636 non-null   object \n",
      " 1   BALANCE                           8636 non-null   float64\n",
      " 2   BALANCE_FREQUENCY                 8636 non-null   float64\n",
      " 3   PURCHASES                         8636 non-null   float64\n",
      " 4   ONEOFF_PURCHASES                  8636 non-null   float64\n",
      " 5   INSTALLMENTS_PURCHASES            8636 non-null   float64\n",
      " 6   CASH_ADVANCE                      8636 non-null   float64\n",
      " 7   PURCHASES_FREQUENCY               8636 non-null   float64\n",
      " 8   ONEOFF_PURCHASES_FREQUENCY        8636 non-null   float64\n",
      " 9   PURCHASES_INSTALLMENTS_FREQUENCY  8636 non-null   float64\n",
      " 10  CASH_ADVANCE_FREQUENCY            8636 non-null   float64\n",
      " 11  CASH_ADVANCE_TRX                  8636 non-null   int64  \n",
      " 12  PURCHASES_TRX                     8636 non-null   int64  \n",
      " 13  CREDIT_LIMIT                      8636 non-null   float64\n",
      " 14  PAYMENTS                          8636 non-null   float64\n",
      " 15  MINIMUM_PAYMENTS                  8636 non-null   float64\n",
      " 16  PRC_FULL_PAYMENT                  8636 non-null   float64\n",
      " 17  TENURE                            8636 non-null   int64  \n",
      "dtypes: float64(14), int64(3), object(1)\n",
      "memory usage: 1.3+ MB\n"
     ]
    }
   ],
   "source": [
    "df.info()"
   ]
  },
  {
   "cell_type": "code",
   "execution_count": 7,
   "metadata": {},
   "outputs": [
    {
     "data": {
      "text/html": [
       "<div>\n",
       "<style scoped>\n",
       "    .dataframe tbody tr th:only-of-type {\n",
       "        vertical-align: middle;\n",
       "    }\n",
       "\n",
       "    .dataframe tbody tr th {\n",
       "        vertical-align: top;\n",
       "    }\n",
       "\n",
       "    .dataframe thead th {\n",
       "        text-align: right;\n",
       "    }\n",
       "</style>\n",
       "<table border=\"1\" class=\"dataframe\">\n",
       "  <thead>\n",
       "    <tr style=\"text-align: right;\">\n",
       "      <th></th>\n",
       "      <th>BALANCE</th>\n",
       "      <th>BALANCE_FREQUENCY</th>\n",
       "      <th>PURCHASES</th>\n",
       "      <th>ONEOFF_PURCHASES</th>\n",
       "      <th>INSTALLMENTS_PURCHASES</th>\n",
       "      <th>CASH_ADVANCE</th>\n",
       "      <th>PURCHASES_FREQUENCY</th>\n",
       "      <th>ONEOFF_PURCHASES_FREQUENCY</th>\n",
       "      <th>PURCHASES_INSTALLMENTS_FREQUENCY</th>\n",
       "      <th>CASH_ADVANCE_FREQUENCY</th>\n",
       "      <th>CASH_ADVANCE_TRX</th>\n",
       "      <th>PURCHASES_TRX</th>\n",
       "      <th>CREDIT_LIMIT</th>\n",
       "      <th>PAYMENTS</th>\n",
       "      <th>MINIMUM_PAYMENTS</th>\n",
       "      <th>PRC_FULL_PAYMENT</th>\n",
       "      <th>TENURE</th>\n",
       "    </tr>\n",
       "  </thead>\n",
       "  <tbody>\n",
       "    <tr>\n",
       "      <th>BALANCE</th>\n",
       "      <td>1.000000</td>\n",
       "      <td>0.310140</td>\n",
       "      <td>0.176083</td>\n",
       "      <td>0.159985</td>\n",
       "      <td>0.122109</td>\n",
       "      <td>0.495586</td>\n",
       "      <td>-0.088459</td>\n",
       "      <td>0.063832</td>\n",
       "      <td>-0.069582</td>\n",
       "      <td>0.445307</td>\n",
       "      <td>0.382388</td>\n",
       "      <td>0.147887</td>\n",
       "      <td>0.535518</td>\n",
       "      <td>0.322830</td>\n",
       "      <td>0.398669</td>\n",
       "      <td>-0.333594</td>\n",
       "      <td>0.066987</td>\n",
       "    </tr>\n",
       "    <tr>\n",
       "      <th>BALANCE_FREQUENCY</th>\n",
       "      <td>0.310140</td>\n",
       "      <td>1.000000</td>\n",
       "      <td>0.122635</td>\n",
       "      <td>0.095254</td>\n",
       "      <td>0.114739</td>\n",
       "      <td>0.089036</td>\n",
       "      <td>0.228158</td>\n",
       "      <td>0.187467</td>\n",
       "      <td>0.184159</td>\n",
       "      <td>0.181132</td>\n",
       "      <td>0.133265</td>\n",
       "      <td>0.183095</td>\n",
       "      <td>0.087682</td>\n",
       "      <td>0.039169</td>\n",
       "      <td>0.132519</td>\n",
       "      <td>-0.156961</td>\n",
       "      <td>0.104714</td>\n",
       "    </tr>\n",
       "    <tr>\n",
       "      <th>PURCHASES</th>\n",
       "      <td>0.176083</td>\n",
       "      <td>0.122635</td>\n",
       "      <td>1.000000</td>\n",
       "      <td>0.916780</td>\n",
       "      <td>0.679259</td>\n",
       "      <td>-0.053760</td>\n",
       "      <td>0.393000</td>\n",
       "      <td>0.497384</td>\n",
       "      <td>0.316025</td>\n",
       "      <td>-0.124863</td>\n",
       "      <td>-0.070277</td>\n",
       "      <td>0.688732</td>\n",
       "      <td>0.358425</td>\n",
       "      <td>0.606782</td>\n",
       "      <td>0.093842</td>\n",
       "      <td>0.176447</td>\n",
       "      <td>0.084545</td>\n",
       "    </tr>\n",
       "    <tr>\n",
       "      <th>ONEOFF_PURCHASES</th>\n",
       "      <td>0.159985</td>\n",
       "      <td>0.095254</td>\n",
       "      <td>0.916780</td>\n",
       "      <td>1.000000</td>\n",
       "      <td>0.329650</td>\n",
       "      <td>-0.033244</td>\n",
       "      <td>0.265460</td>\n",
       "      <td>0.524514</td>\n",
       "      <td>0.128380</td>\n",
       "      <td>-0.086413</td>\n",
       "      <td>-0.048705</td>\n",
       "      <td>0.545313</td>\n",
       "      <td>0.320613</td>\n",
       "      <td>0.570850</td>\n",
       "      <td>0.048741</td>\n",
       "      <td>0.129890</td>\n",
       "      <td>0.063400</td>\n",
       "    </tr>\n",
       "    <tr>\n",
       "      <th>INSTALLMENTS_PURCHASES</th>\n",
       "      <td>0.122109</td>\n",
       "      <td>0.114739</td>\n",
       "      <td>0.679259</td>\n",
       "      <td>0.329650</td>\n",
       "      <td>1.000000</td>\n",
       "      <td>-0.066099</td>\n",
       "      <td>0.441193</td>\n",
       "      <td>0.211829</td>\n",
       "      <td>0.511130</td>\n",
       "      <td>-0.136455</td>\n",
       "      <td>-0.076716</td>\n",
       "      <td>0.626083</td>\n",
       "      <td>0.258057</td>\n",
       "      <td>0.385391</td>\n",
       "      <td>0.132156</td>\n",
       "      <td>0.178440</td>\n",
       "      <td>0.083346</td>\n",
       "    </tr>\n",
       "    <tr>\n",
       "      <th>CASH_ADVANCE</th>\n",
       "      <td>0.495586</td>\n",
       "      <td>0.089036</td>\n",
       "      <td>-0.053760</td>\n",
       "      <td>-0.033244</td>\n",
       "      <td>-0.066099</td>\n",
       "      <td>1.000000</td>\n",
       "      <td>-0.218566</td>\n",
       "      <td>-0.090111</td>\n",
       "      <td>-0.178873</td>\n",
       "      <td>0.629030</td>\n",
       "      <td>0.656911</td>\n",
       "      <td>-0.078449</td>\n",
       "      <td>0.304161</td>\n",
       "      <td>0.459342</td>\n",
       "      <td>0.140094</td>\n",
       "      <td>-0.158566</td>\n",
       "      <td>-0.073090</td>\n",
       "    </tr>\n",
       "    <tr>\n",
       "      <th>PURCHASES_FREQUENCY</th>\n",
       "      <td>-0.088459</td>\n",
       "      <td>0.228158</td>\n",
       "      <td>0.393000</td>\n",
       "      <td>0.265460</td>\n",
       "      <td>0.441193</td>\n",
       "      <td>-0.218566</td>\n",
       "      <td>1.000000</td>\n",
       "      <td>0.502123</td>\n",
       "      <td>0.862338</td>\n",
       "      <td>-0.316771</td>\n",
       "      <td>-0.208749</td>\n",
       "      <td>0.567168</td>\n",
       "      <td>0.121372</td>\n",
       "      <td>0.100715</td>\n",
       "      <td>0.002979</td>\n",
       "      <td>0.305393</td>\n",
       "      <td>0.052161</td>\n",
       "    </tr>\n",
       "    <tr>\n",
       "      <th>ONEOFF_PURCHASES_FREQUENCY</th>\n",
       "      <td>0.063832</td>\n",
       "      <td>0.187467</td>\n",
       "      <td>0.497384</td>\n",
       "      <td>0.524514</td>\n",
       "      <td>0.211829</td>\n",
       "      <td>-0.090111</td>\n",
       "      <td>0.502123</td>\n",
       "      <td>1.000000</td>\n",
       "      <td>0.143911</td>\n",
       "      <td>-0.118225</td>\n",
       "      <td>-0.073384</td>\n",
       "      <td>0.544364</td>\n",
       "      <td>0.295432</td>\n",
       "      <td>0.244346</td>\n",
       "      <td>-0.030357</td>\n",
       "      <td>0.154073</td>\n",
       "      <td>0.080437</td>\n",
       "    </tr>\n",
       "    <tr>\n",
       "      <th>PURCHASES_INSTALLMENTS_FREQUENCY</th>\n",
       "      <td>-0.069582</td>\n",
       "      <td>0.184159</td>\n",
       "      <td>0.316025</td>\n",
       "      <td>0.128380</td>\n",
       "      <td>0.511130</td>\n",
       "      <td>-0.178873</td>\n",
       "      <td>0.862338</td>\n",
       "      <td>0.143911</td>\n",
       "      <td>1.000000</td>\n",
       "      <td>-0.268924</td>\n",
       "      <td>-0.172811</td>\n",
       "      <td>0.529192</td>\n",
       "      <td>0.063421</td>\n",
       "      <td>0.083424</td>\n",
       "      <td>0.030036</td>\n",
       "      <td>0.249547</td>\n",
       "      <td>0.065779</td>\n",
       "    </tr>\n",
       "    <tr>\n",
       "      <th>CASH_ADVANCE_FREQUENCY</th>\n",
       "      <td>0.445307</td>\n",
       "      <td>0.181132</td>\n",
       "      <td>-0.124863</td>\n",
       "      <td>-0.086413</td>\n",
       "      <td>-0.136455</td>\n",
       "      <td>0.629030</td>\n",
       "      <td>-0.316771</td>\n",
       "      <td>-0.118225</td>\n",
       "      <td>-0.268924</td>\n",
       "      <td>1.000000</td>\n",
       "      <td>0.799593</td>\n",
       "      <td>-0.136913</td>\n",
       "      <td>0.132841</td>\n",
       "      <td>0.182340</td>\n",
       "      <td>0.098844</td>\n",
       "      <td>-0.260001</td>\n",
       "      <td>-0.140038</td>\n",
       "    </tr>\n",
       "    <tr>\n",
       "      <th>CASH_ADVANCE_TRX</th>\n",
       "      <td>0.382388</td>\n",
       "      <td>0.133265</td>\n",
       "      <td>-0.070277</td>\n",
       "      <td>-0.048705</td>\n",
       "      <td>-0.076716</td>\n",
       "      <td>0.656911</td>\n",
       "      <td>-0.208749</td>\n",
       "      <td>-0.073384</td>\n",
       "      <td>-0.172811</td>\n",
       "      <td>0.799593</td>\n",
       "      <td>1.000000</td>\n",
       "      <td>-0.069879</td>\n",
       "      <td>0.150261</td>\n",
       "      <td>0.255921</td>\n",
       "      <td>0.109727</td>\n",
       "      <td>-0.176574</td>\n",
       "      <td>-0.045350</td>\n",
       "    </tr>\n",
       "    <tr>\n",
       "      <th>PURCHASES_TRX</th>\n",
       "      <td>0.147887</td>\n",
       "      <td>0.183095</td>\n",
       "      <td>0.688732</td>\n",
       "      <td>0.545313</td>\n",
       "      <td>0.626083</td>\n",
       "      <td>-0.078449</td>\n",
       "      <td>0.567168</td>\n",
       "      <td>0.544364</td>\n",
       "      <td>0.529192</td>\n",
       "      <td>-0.136913</td>\n",
       "      <td>-0.069879</td>\n",
       "      <td>1.000000</td>\n",
       "      <td>0.273715</td>\n",
       "      <td>0.371477</td>\n",
       "      <td>0.096311</td>\n",
       "      <td>0.156789</td>\n",
       "      <td>0.118889</td>\n",
       "    </tr>\n",
       "    <tr>\n",
       "      <th>CREDIT_LIMIT</th>\n",
       "      <td>0.535518</td>\n",
       "      <td>0.087682</td>\n",
       "      <td>0.358425</td>\n",
       "      <td>0.320613</td>\n",
       "      <td>0.258057</td>\n",
       "      <td>0.304161</td>\n",
       "      <td>0.121372</td>\n",
       "      <td>0.295432</td>\n",
       "      <td>0.063421</td>\n",
       "      <td>0.132841</td>\n",
       "      <td>0.150261</td>\n",
       "      <td>0.273715</td>\n",
       "      <td>1.000000</td>\n",
       "      <td>0.426951</td>\n",
       "      <td>0.126671</td>\n",
       "      <td>0.052578</td>\n",
       "      <td>0.136464</td>\n",
       "    </tr>\n",
       "    <tr>\n",
       "      <th>PAYMENTS</th>\n",
       "      <td>0.322830</td>\n",
       "      <td>0.039169</td>\n",
       "      <td>0.606782</td>\n",
       "      <td>0.570850</td>\n",
       "      <td>0.385391</td>\n",
       "      <td>0.459342</td>\n",
       "      <td>0.100715</td>\n",
       "      <td>0.244346</td>\n",
       "      <td>0.083424</td>\n",
       "      <td>0.182340</td>\n",
       "      <td>0.255921</td>\n",
       "      <td>0.371477</td>\n",
       "      <td>0.426951</td>\n",
       "      <td>1.000000</td>\n",
       "      <td>0.126630</td>\n",
       "      <td>0.104668</td>\n",
       "      <td>0.102986</td>\n",
       "    </tr>\n",
       "    <tr>\n",
       "      <th>MINIMUM_PAYMENTS</th>\n",
       "      <td>0.398669</td>\n",
       "      <td>0.132519</td>\n",
       "      <td>0.093842</td>\n",
       "      <td>0.048741</td>\n",
       "      <td>0.132156</td>\n",
       "      <td>0.140094</td>\n",
       "      <td>0.002979</td>\n",
       "      <td>-0.030357</td>\n",
       "      <td>0.030036</td>\n",
       "      <td>0.098844</td>\n",
       "      <td>0.109727</td>\n",
       "      <td>0.096311</td>\n",
       "      <td>0.126671</td>\n",
       "      <td>0.126630</td>\n",
       "      <td>1.000000</td>\n",
       "      <td>-0.140404</td>\n",
       "      <td>0.059330</td>\n",
       "    </tr>\n",
       "    <tr>\n",
       "      <th>PRC_FULL_PAYMENT</th>\n",
       "      <td>-0.333594</td>\n",
       "      <td>-0.156961</td>\n",
       "      <td>0.176447</td>\n",
       "      <td>0.129890</td>\n",
       "      <td>0.178440</td>\n",
       "      <td>-0.158566</td>\n",
       "      <td>0.305393</td>\n",
       "      <td>0.154073</td>\n",
       "      <td>0.249547</td>\n",
       "      <td>-0.260001</td>\n",
       "      <td>-0.176574</td>\n",
       "      <td>0.156789</td>\n",
       "      <td>0.052578</td>\n",
       "      <td>0.104668</td>\n",
       "      <td>-0.140404</td>\n",
       "      <td>1.000000</td>\n",
       "      <td>-0.024223</td>\n",
       "    </tr>\n",
       "    <tr>\n",
       "      <th>TENURE</th>\n",
       "      <td>0.066987</td>\n",
       "      <td>0.104714</td>\n",
       "      <td>0.084545</td>\n",
       "      <td>0.063400</td>\n",
       "      <td>0.083346</td>\n",
       "      <td>-0.073090</td>\n",
       "      <td>0.052161</td>\n",
       "      <td>0.080437</td>\n",
       "      <td>0.065779</td>\n",
       "      <td>-0.140038</td>\n",
       "      <td>-0.045350</td>\n",
       "      <td>0.118889</td>\n",
       "      <td>0.136464</td>\n",
       "      <td>0.102986</td>\n",
       "      <td>0.059330</td>\n",
       "      <td>-0.024223</td>\n",
       "      <td>1.000000</td>\n",
       "    </tr>\n",
       "  </tbody>\n",
       "</table>\n",
       "</div>"
      ],
      "text/plain": [
       "                                   BALANCE  BALANCE_FREQUENCY  PURCHASES  \\\n",
       "BALANCE                           1.000000           0.310140   0.176083   \n",
       "BALANCE_FREQUENCY                 0.310140           1.000000   0.122635   \n",
       "PURCHASES                         0.176083           0.122635   1.000000   \n",
       "ONEOFF_PURCHASES                  0.159985           0.095254   0.916780   \n",
       "INSTALLMENTS_PURCHASES            0.122109           0.114739   0.679259   \n",
       "CASH_ADVANCE                      0.495586           0.089036  -0.053760   \n",
       "PURCHASES_FREQUENCY              -0.088459           0.228158   0.393000   \n",
       "ONEOFF_PURCHASES_FREQUENCY        0.063832           0.187467   0.497384   \n",
       "PURCHASES_INSTALLMENTS_FREQUENCY -0.069582           0.184159   0.316025   \n",
       "CASH_ADVANCE_FREQUENCY            0.445307           0.181132  -0.124863   \n",
       "CASH_ADVANCE_TRX                  0.382388           0.133265  -0.070277   \n",
       "PURCHASES_TRX                     0.147887           0.183095   0.688732   \n",
       "CREDIT_LIMIT                      0.535518           0.087682   0.358425   \n",
       "PAYMENTS                          0.322830           0.039169   0.606782   \n",
       "MINIMUM_PAYMENTS                  0.398669           0.132519   0.093842   \n",
       "PRC_FULL_PAYMENT                 -0.333594          -0.156961   0.176447   \n",
       "TENURE                            0.066987           0.104714   0.084545   \n",
       "\n",
       "                                  ONEOFF_PURCHASES  INSTALLMENTS_PURCHASES  \\\n",
       "BALANCE                                   0.159985                0.122109   \n",
       "BALANCE_FREQUENCY                         0.095254                0.114739   \n",
       "PURCHASES                                 0.916780                0.679259   \n",
       "ONEOFF_PURCHASES                          1.000000                0.329650   \n",
       "INSTALLMENTS_PURCHASES                    0.329650                1.000000   \n",
       "CASH_ADVANCE                             -0.033244               -0.066099   \n",
       "PURCHASES_FREQUENCY                       0.265460                0.441193   \n",
       "ONEOFF_PURCHASES_FREQUENCY                0.524514                0.211829   \n",
       "PURCHASES_INSTALLMENTS_FREQUENCY          0.128380                0.511130   \n",
       "CASH_ADVANCE_FREQUENCY                   -0.086413               -0.136455   \n",
       "CASH_ADVANCE_TRX                         -0.048705               -0.076716   \n",
       "PURCHASES_TRX                             0.545313                0.626083   \n",
       "CREDIT_LIMIT                              0.320613                0.258057   \n",
       "PAYMENTS                                  0.570850                0.385391   \n",
       "MINIMUM_PAYMENTS                          0.048741                0.132156   \n",
       "PRC_FULL_PAYMENT                          0.129890                0.178440   \n",
       "TENURE                                    0.063400                0.083346   \n",
       "\n",
       "                                  CASH_ADVANCE  PURCHASES_FREQUENCY  \\\n",
       "BALANCE                               0.495586            -0.088459   \n",
       "BALANCE_FREQUENCY                     0.089036             0.228158   \n",
       "PURCHASES                            -0.053760             0.393000   \n",
       "ONEOFF_PURCHASES                     -0.033244             0.265460   \n",
       "INSTALLMENTS_PURCHASES               -0.066099             0.441193   \n",
       "CASH_ADVANCE                          1.000000            -0.218566   \n",
       "PURCHASES_FREQUENCY                  -0.218566             1.000000   \n",
       "ONEOFF_PURCHASES_FREQUENCY           -0.090111             0.502123   \n",
       "PURCHASES_INSTALLMENTS_FREQUENCY     -0.178873             0.862338   \n",
       "CASH_ADVANCE_FREQUENCY                0.629030            -0.316771   \n",
       "CASH_ADVANCE_TRX                      0.656911            -0.208749   \n",
       "PURCHASES_TRX                        -0.078449             0.567168   \n",
       "CREDIT_LIMIT                          0.304161             0.121372   \n",
       "PAYMENTS                              0.459342             0.100715   \n",
       "MINIMUM_PAYMENTS                      0.140094             0.002979   \n",
       "PRC_FULL_PAYMENT                     -0.158566             0.305393   \n",
       "TENURE                               -0.073090             0.052161   \n",
       "\n",
       "                                  ONEOFF_PURCHASES_FREQUENCY  \\\n",
       "BALANCE                                             0.063832   \n",
       "BALANCE_FREQUENCY                                   0.187467   \n",
       "PURCHASES                                           0.497384   \n",
       "ONEOFF_PURCHASES                                    0.524514   \n",
       "INSTALLMENTS_PURCHASES                              0.211829   \n",
       "CASH_ADVANCE                                       -0.090111   \n",
       "PURCHASES_FREQUENCY                                 0.502123   \n",
       "ONEOFF_PURCHASES_FREQUENCY                          1.000000   \n",
       "PURCHASES_INSTALLMENTS_FREQUENCY                    0.143911   \n",
       "CASH_ADVANCE_FREQUENCY                             -0.118225   \n",
       "CASH_ADVANCE_TRX                                   -0.073384   \n",
       "PURCHASES_TRX                                       0.544364   \n",
       "CREDIT_LIMIT                                        0.295432   \n",
       "PAYMENTS                                            0.244346   \n",
       "MINIMUM_PAYMENTS                                   -0.030357   \n",
       "PRC_FULL_PAYMENT                                    0.154073   \n",
       "TENURE                                              0.080437   \n",
       "\n",
       "                                  PURCHASES_INSTALLMENTS_FREQUENCY  \\\n",
       "BALANCE                                                  -0.069582   \n",
       "BALANCE_FREQUENCY                                         0.184159   \n",
       "PURCHASES                                                 0.316025   \n",
       "ONEOFF_PURCHASES                                          0.128380   \n",
       "INSTALLMENTS_PURCHASES                                    0.511130   \n",
       "CASH_ADVANCE                                             -0.178873   \n",
       "PURCHASES_FREQUENCY                                       0.862338   \n",
       "ONEOFF_PURCHASES_FREQUENCY                                0.143911   \n",
       "PURCHASES_INSTALLMENTS_FREQUENCY                          1.000000   \n",
       "CASH_ADVANCE_FREQUENCY                                   -0.268924   \n",
       "CASH_ADVANCE_TRX                                         -0.172811   \n",
       "PURCHASES_TRX                                             0.529192   \n",
       "CREDIT_LIMIT                                              0.063421   \n",
       "PAYMENTS                                                  0.083424   \n",
       "MINIMUM_PAYMENTS                                          0.030036   \n",
       "PRC_FULL_PAYMENT                                          0.249547   \n",
       "TENURE                                                    0.065779   \n",
       "\n",
       "                                  CASH_ADVANCE_FREQUENCY  CASH_ADVANCE_TRX  \\\n",
       "BALANCE                                         0.445307          0.382388   \n",
       "BALANCE_FREQUENCY                               0.181132          0.133265   \n",
       "PURCHASES                                      -0.124863         -0.070277   \n",
       "ONEOFF_PURCHASES                               -0.086413         -0.048705   \n",
       "INSTALLMENTS_PURCHASES                         -0.136455         -0.076716   \n",
       "CASH_ADVANCE                                    0.629030          0.656911   \n",
       "PURCHASES_FREQUENCY                            -0.316771         -0.208749   \n",
       "ONEOFF_PURCHASES_FREQUENCY                     -0.118225         -0.073384   \n",
       "PURCHASES_INSTALLMENTS_FREQUENCY               -0.268924         -0.172811   \n",
       "CASH_ADVANCE_FREQUENCY                          1.000000          0.799593   \n",
       "CASH_ADVANCE_TRX                                0.799593          1.000000   \n",
       "PURCHASES_TRX                                  -0.136913         -0.069879   \n",
       "CREDIT_LIMIT                                    0.132841          0.150261   \n",
       "PAYMENTS                                        0.182340          0.255921   \n",
       "MINIMUM_PAYMENTS                                0.098844          0.109727   \n",
       "PRC_FULL_PAYMENT                               -0.260001         -0.176574   \n",
       "TENURE                                         -0.140038         -0.045350   \n",
       "\n",
       "                                  PURCHASES_TRX  CREDIT_LIMIT  PAYMENTS  \\\n",
       "BALANCE                                0.147887      0.535518  0.322830   \n",
       "BALANCE_FREQUENCY                      0.183095      0.087682  0.039169   \n",
       "PURCHASES                              0.688732      0.358425  0.606782   \n",
       "ONEOFF_PURCHASES                       0.545313      0.320613  0.570850   \n",
       "INSTALLMENTS_PURCHASES                 0.626083      0.258057  0.385391   \n",
       "CASH_ADVANCE                          -0.078449      0.304161  0.459342   \n",
       "PURCHASES_FREQUENCY                    0.567168      0.121372  0.100715   \n",
       "ONEOFF_PURCHASES_FREQUENCY             0.544364      0.295432  0.244346   \n",
       "PURCHASES_INSTALLMENTS_FREQUENCY       0.529192      0.063421  0.083424   \n",
       "CASH_ADVANCE_FREQUENCY                -0.136913      0.132841  0.182340   \n",
       "CASH_ADVANCE_TRX                      -0.069879      0.150261  0.255921   \n",
       "PURCHASES_TRX                          1.000000      0.273715  0.371477   \n",
       "CREDIT_LIMIT                           0.273715      1.000000  0.426951   \n",
       "PAYMENTS                               0.371477      0.426951  1.000000   \n",
       "MINIMUM_PAYMENTS                       0.096311      0.126671  0.126630   \n",
       "PRC_FULL_PAYMENT                       0.156789      0.052578  0.104668   \n",
       "TENURE                                 0.118889      0.136464  0.102986   \n",
       "\n",
       "                                  MINIMUM_PAYMENTS  PRC_FULL_PAYMENT    TENURE  \n",
       "BALANCE                                   0.398669         -0.333594  0.066987  \n",
       "BALANCE_FREQUENCY                         0.132519         -0.156961  0.104714  \n",
       "PURCHASES                                 0.093842          0.176447  0.084545  \n",
       "ONEOFF_PURCHASES                          0.048741          0.129890  0.063400  \n",
       "INSTALLMENTS_PURCHASES                    0.132156          0.178440  0.083346  \n",
       "CASH_ADVANCE                              0.140094         -0.158566 -0.073090  \n",
       "PURCHASES_FREQUENCY                       0.002979          0.305393  0.052161  \n",
       "ONEOFF_PURCHASES_FREQUENCY               -0.030357          0.154073  0.080437  \n",
       "PURCHASES_INSTALLMENTS_FREQUENCY          0.030036          0.249547  0.065779  \n",
       "CASH_ADVANCE_FREQUENCY                    0.098844         -0.260001 -0.140038  \n",
       "CASH_ADVANCE_TRX                          0.109727         -0.176574 -0.045350  \n",
       "PURCHASES_TRX                             0.096311          0.156789  0.118889  \n",
       "CREDIT_LIMIT                              0.126671          0.052578  0.136464  \n",
       "PAYMENTS                                  0.126630          0.104668  0.102986  \n",
       "MINIMUM_PAYMENTS                          1.000000         -0.140404  0.059330  \n",
       "PRC_FULL_PAYMENT                         -0.140404          1.000000 -0.024223  \n",
       "TENURE                                    0.059330         -0.024223  1.000000  "
      ]
     },
     "execution_count": 7,
     "metadata": {},
     "output_type": "execute_result"
    }
   ],
   "source": [
    "# to apply PCA i shoud find out the relation between the features\n",
    "df.corr()"
   ]
  },
  {
   "cell_type": "code",
   "execution_count": 8,
   "metadata": {},
   "outputs": [
    {
     "data": {
      "text/plain": [
       "array([[<AxesSubplot:title={'center':'BALANCE'}>,\n",
       "        <AxesSubplot:title={'center':'BALANCE_FREQUENCY'}>,\n",
       "        <AxesSubplot:title={'center':'PURCHASES'}>,\n",
       "        <AxesSubplot:title={'center':'ONEOFF_PURCHASES'}>],\n",
       "       [<AxesSubplot:title={'center':'INSTALLMENTS_PURCHASES'}>,\n",
       "        <AxesSubplot:title={'center':'CASH_ADVANCE'}>,\n",
       "        <AxesSubplot:title={'center':'PURCHASES_FREQUENCY'}>,\n",
       "        <AxesSubplot:title={'center':'ONEOFF_PURCHASES_FREQUENCY'}>],\n",
       "       [<AxesSubplot:title={'center':'PURCHASES_INSTALLMENTS_FREQUENCY'}>,\n",
       "        <AxesSubplot:title={'center':'CASH_ADVANCE_FREQUENCY'}>,\n",
       "        <AxesSubplot:title={'center':'CASH_ADVANCE_TRX'}>,\n",
       "        <AxesSubplot:title={'center':'PURCHASES_TRX'}>],\n",
       "       [<AxesSubplot:title={'center':'CREDIT_LIMIT'}>,\n",
       "        <AxesSubplot:title={'center':'PAYMENTS'}>,\n",
       "        <AxesSubplot:title={'center':'MINIMUM_PAYMENTS'}>,\n",
       "        <AxesSubplot:title={'center':'PRC_FULL_PAYMENT'}>],\n",
       "       [<AxesSubplot:title={'center':'TENURE'}>, <AxesSubplot:>,\n",
       "        <AxesSubplot:>, <AxesSubplot:>]], dtype=object)"
      ]
     },
     "execution_count": 8,
     "metadata": {},
     "output_type": "execute_result"
    },
    {
     "data": {
      "image/png": "[encoded data removed]",
      "text/plain": [
       "<Figure size 640x480 with 20 Axes>"
      ]
     },
     "metadata": {},
     "output_type": "display_data"
    }
   ],
   "source": [
    "df.hist()\n",
    "# we couldn't remove outlyers becouse it is important part of our data"
   ]
  },
  {
   "cell_type": "code",
   "execution_count": 9,
   "metadata": {},
   "outputs": [
    {
     "data": {
      "text/plain": [
       "CUST_ID                             8636\n",
       "BALANCE                             8631\n",
       "BALANCE_FREQUENCY                     42\n",
       "PURCHASES                           6015\n",
       "ONEOFF_PURCHASES                    3922\n",
       "INSTALLMENTS_PURCHASES              4341\n",
       "CASH_ADVANCE                        4206\n",
       "PURCHASES_FREQUENCY                   47\n",
       "ONEOFF_PURCHASES_FREQUENCY            47\n",
       "PURCHASES_INSTALLMENTS_FREQUENCY      47\n",
       "CASH_ADVANCE_FREQUENCY                54\n",
       "CASH_ADVANCE_TRX                      65\n",
       "PURCHASES_TRX                        173\n",
       "CREDIT_LIMIT                         203\n",
       "PAYMENTS                            8636\n",
       "MINIMUM_PAYMENTS                    8635\n",
       "PRC_FULL_PAYMENT                      47\n",
       "TENURE                                 7\n",
       "dtype: int64"
      ]
     },
     "execution_count": 9,
     "metadata": {},
     "output_type": "execute_result"
    }
   ],
   "source": [
    "df.nunique()"
   ]
  },
  {
   "cell_type": "code",
   "execution_count": 35,
   "metadata": {},
   "outputs": [],
   "source": [
    "# Standardizing the features using robust scalar becouse it is not sensitive to outlyers\n",
    "df_ =df.drop(columns=[\"CUST_ID\"])\n",
    "scaler =RobustScaler()\n",
    "df_ = pd.DataFrame(scaler.fit_transform(df_))"
   ]
  },
  {
   "cell_type": "code",
   "execution_count": 11,
   "metadata": {},
   "outputs": [
    {
     "data": {
      "text/plain": [
       "array([[<AxesSubplot:title={'center':'0'}>,\n",
       "        <AxesSubplot:title={'center':'1'}>,\n",
       "        <AxesSubplot:title={'center':'2'}>,\n",
       "        <AxesSubplot:title={'center':'3'}>],\n",
       "       [<AxesSubplot:title={'center':'4'}>,\n",
       "        <AxesSubplot:title={'center':'5'}>,\n",
       "        <AxesSubplot:title={'center':'6'}>,\n",
       "        <AxesSubplot:title={'center':'7'}>],\n",
       "       [<AxesSubplot:title={'center':'8'}>,\n",
       "        <AxesSubplot:title={'center':'9'}>,\n",
       "        <AxesSubplot:title={'center':'10'}>,\n",
       "        <AxesSubplot:title={'center':'11'}>],\n",
       "       [<AxesSubplot:title={'center':'12'}>,\n",
       "        <AxesSubplot:title={'center':'13'}>,\n",
       "        <AxesSubplot:title={'center':'14'}>,\n",
       "        <AxesSubplot:title={'center':'15'}>],\n",
       "       [<AxesSubplot:title={'center':'16'}>, <AxesSubplot:>,\n",
       "        <AxesSubplot:>, <AxesSubplot:>]], dtype=object)"
      ]
     },
     "execution_count": 11,
     "metadata": {},
     "output_type": "execute_result"
    },
    {
     "data": {
      "image/png": "[encoded data removed]",
      "text/plain": [
       "<Figure size 640x480 with 20 Axes>"
      ]
     },
     "metadata": {},
     "output_type": "display_data"
    }
   ],
   "source": [
    "df_std= df_\n",
    "df_std.hist()"
   ]
  },
  {
   "cell_type": "code",
   "execution_count": 13,
   "metadata": {},
   "outputs": [
    {
     "data": {
      "text/html": [
       "<style type=\"text/css\">\n",
       "#T_e9ea1_row0_col0, #T_e9ea1_row0_col1, #T_e9ea1_row1_col0, #T_e9ea1_row1_col1, #T_e9ea1_row2_col0, #T_e9ea1_row2_col1, #T_e9ea1_row3_col0, #T_e9ea1_row3_col1, #T_e9ea1_row4_col0, #T_e9ea1_row4_col1, #T_e9ea1_row5_col0, #T_e9ea1_row5_col1, #T_e9ea1_row6_col0, #T_e9ea1_row6_col1, #T_e9ea1_row7_col0, #T_e9ea1_row7_col1, #T_e9ea1_row8_col0, #T_e9ea1_row8_col1, #T_e9ea1_row9_col0, #T_e9ea1_row9_col1, #T_e9ea1_row10_col0, #T_e9ea1_row10_col1, #T_e9ea1_row11_col0, #T_e9ea1_row11_col1, #T_e9ea1_row12_col0, #T_e9ea1_row12_col1, #T_e9ea1_row13_col0, #T_e9ea1_row13_col1, #T_e9ea1_row14_col0, #T_e9ea1_row14_col1, #T_e9ea1_row15_col0, #T_e9ea1_row15_col1, #T_e9ea1_row16_col0, #T_e9ea1_row16_col1 {\n",
       "  text-align: center;\n",
       "}\n",
       "</style>\n",
       "<table id=\"T_e9ea1\">\n",
       "  <thead>\n",
       "    <tr>\n",
       "      <th class=\"blank level0\" >&nbsp;</th>\n",
       "      <th id=\"T_e9ea1_level0_col0\" class=\"col_heading level0 col0\" >Number of Components</th>\n",
       "      <th id=\"T_e9ea1_level0_col1\" class=\"col_heading level0 col1\" >Explained Variance</th>\n",
       "    </tr>\n",
       "  </thead>\n",
       "  <tbody>\n",
       "    <tr>\n",
       "      <th id=\"T_e9ea1_level0_row0\" class=\"row_heading level0 row0\" >1</th>\n",
       "      <td id=\"T_e9ea1_row0_col0\" class=\"data row0 col0\" >1</td>\n",
       "      <td id=\"T_e9ea1_row0_col1\" class=\"data row0 col1\" >16.439353</td>\n",
       "    </tr>\n",
       "    <tr>\n",
       "      <th id=\"T_e9ea1_level0_row1\" class=\"row_heading level0 row1\" >2</th>\n",
       "      <td id=\"T_e9ea1_row1_col0\" class=\"data row1 col0\" >2</td>\n",
       "      <td id=\"T_e9ea1_row1_col1\" class=\"data row1 col1\" >13.072991</td>\n",
       "    </tr>\n",
       "    <tr>\n",
       "      <th id=\"T_e9ea1_level0_row2\" class=\"row_heading level0 row2\" >3</th>\n",
       "      <td id=\"T_e9ea1_row2_col0\" class=\"data row2 col0\" >3</td>\n",
       "      <td id=\"T_e9ea1_row2_col1\" class=\"data row2 col1\" >6.902390</td>\n",
       "    </tr>\n",
       "    <tr>\n",
       "      <th id=\"T_e9ea1_level0_row3\" class=\"row_heading level0 row3\" >4</th>\n",
       "      <td id=\"T_e9ea1_row3_col0\" class=\"data row3 col0\" >4</td>\n",
       "      <td id=\"T_e9ea1_row3_col1\" class=\"data row3 col1\" >5.187213</td>\n",
       "    </tr>\n",
       "    <tr>\n",
       "      <th id=\"T_e9ea1_level0_row4\" class=\"row_heading level0 row4\" >5</th>\n",
       "      <td id=\"T_e9ea1_row4_col0\" class=\"data row4 col0\" >5</td>\n",
       "      <td id=\"T_e9ea1_row4_col1\" class=\"data row4 col1\" >3.496440</td>\n",
       "    </tr>\n",
       "    <tr>\n",
       "      <th id=\"T_e9ea1_level0_row5\" class=\"row_heading level0 row5\" >6</th>\n",
       "      <td id=\"T_e9ea1_row5_col0\" class=\"data row5 col0\" >6</td>\n",
       "      <td id=\"T_e9ea1_row5_col1\" class=\"data row5 col1\" >2.554904</td>\n",
       "    </tr>\n",
       "    <tr>\n",
       "      <th id=\"T_e9ea1_level0_row6\" class=\"row_heading level0 row6\" >7</th>\n",
       "      <td id=\"T_e9ea1_row6_col0\" class=\"data row6 col0\" >7</td>\n",
       "      <td id=\"T_e9ea1_row6_col1\" class=\"data row6 col1\" >1.795256</td>\n",
       "    </tr>\n",
       "    <tr>\n",
       "      <th id=\"T_e9ea1_level0_row7\" class=\"row_heading level0 row7\" >8</th>\n",
       "      <td id=\"T_e9ea1_row7_col0\" class=\"data row7 col0\" >8</td>\n",
       "      <td id=\"T_e9ea1_row7_col1\" class=\"data row7 col1\" >1.473194</td>\n",
       "    </tr>\n",
       "    <tr>\n",
       "      <th id=\"T_e9ea1_level0_row8\" class=\"row_heading level0 row8\" >9</th>\n",
       "      <td id=\"T_e9ea1_row8_col0\" class=\"data row8 col0\" >9</td>\n",
       "      <td id=\"T_e9ea1_row8_col1\" class=\"data row8 col1\" >1.068633</td>\n",
       "    </tr>\n",
       "    <tr>\n",
       "      <th id=\"T_e9ea1_level0_row9\" class=\"row_heading level0 row9\" >10</th>\n",
       "      <td id=\"T_e9ea1_row9_col0\" class=\"data row9 col0\" >10</td>\n",
       "      <td id=\"T_e9ea1_row9_col1\" class=\"data row9 col1\" >0.814679</td>\n",
       "    </tr>\n",
       "    <tr>\n",
       "      <th id=\"T_e9ea1_level0_row10\" class=\"row_heading level0 row10\" >11</th>\n",
       "      <td id=\"T_e9ea1_row10_col0\" class=\"data row10 col0\" >11</td>\n",
       "      <td id=\"T_e9ea1_row10_col1\" class=\"data row10 col1\" >0.617909</td>\n",
       "    </tr>\n",
       "    <tr>\n",
       "      <th id=\"T_e9ea1_level0_row11\" class=\"row_heading level0 row11\" >12</th>\n",
       "      <td id=\"T_e9ea1_row11_col0\" class=\"data row11 col0\" >12</td>\n",
       "      <td id=\"T_e9ea1_row11_col1\" class=\"data row11 col1\" >0.425158</td>\n",
       "    </tr>\n",
       "    <tr>\n",
       "      <th id=\"T_e9ea1_level0_row12\" class=\"row_heading level0 row12\" >13</th>\n",
       "      <td id=\"T_e9ea1_row12_col0\" class=\"data row12 col0\" >13</td>\n",
       "      <td id=\"T_e9ea1_row12_col1\" class=\"data row12 col1\" >0.261632</td>\n",
       "    </tr>\n",
       "    <tr>\n",
       "      <th id=\"T_e9ea1_level0_row13\" class=\"row_heading level0 row13\" >14</th>\n",
       "      <td id=\"T_e9ea1_row13_col0\" class=\"data row13 col0\" >14</td>\n",
       "      <td id=\"T_e9ea1_row13_col1\" class=\"data row13 col1\" >0.216915</td>\n",
       "    </tr>\n",
       "    <tr>\n",
       "      <th id=\"T_e9ea1_level0_row14\" class=\"row_heading level0 row14\" >15</th>\n",
       "      <td id=\"T_e9ea1_row14_col0\" class=\"data row14 col0\" >15</td>\n",
       "      <td id=\"T_e9ea1_row14_col1\" class=\"data row14 col1\" >0.156965</td>\n",
       "    </tr>\n",
       "    <tr>\n",
       "      <th id=\"T_e9ea1_level0_row15\" class=\"row_heading level0 row15\" >16</th>\n",
       "      <td id=\"T_e9ea1_row15_col0\" class=\"data row15 col0\" >16</td>\n",
       "      <td id=\"T_e9ea1_row15_col1\" class=\"data row15 col1\" >0.012814</td>\n",
       "    </tr>\n",
       "    <tr>\n",
       "      <th id=\"T_e9ea1_level0_row16\" class=\"row_heading level0 row16\" >17</th>\n",
       "      <td id=\"T_e9ea1_row16_col0\" class=\"data row16 col0\" >17</td>\n",
       "      <td id=\"T_e9ea1_row16_col1\" class=\"data row16 col1\" >0.000054</td>\n",
       "    </tr>\n",
       "  </tbody>\n",
       "</table>\n"
      ],
      "text/plain": [
       "<pandas.io.formats.style.Styler at 0x1bc4fa7d5e0>"
      ]
     },
     "execution_count": 13,
     "metadata": {},
     "output_type": "execute_result"
    }
   ],
   "source": [
    "# Table of the amount of variation explained\n",
    "from sklearn.decomposition import PCA\n",
    "# Instantiate the PCA\n",
    "pca = PCA()\n",
    "# Apply the PCA\n",
    "df_pca = pca.fit_transform(df_std)\n",
    "num_com = range(1, 18)\n",
    "df_com = pd.DataFrame(num_com, columns=['Number of Components'])\n",
    "ev = pca.explained_variance_\n",
    "df_ev = pd.DataFrame(ev, columns=['Explained Variance'])\n",
    "df_ev = pd.concat([df_com, df_ev], axis=1)\n",
    "df_ev.index = df_ev.index + 1\n",
    "df_ev\n",
    "df_ev.style.set_properties(**{'text-align': 'center'})"
   ]
  },
  {
   "cell_type": "code",
   "execution_count": 14,
   "metadata": {},
   "outputs": [],
   "source": [
    "# I choosed 4 becouse of the change in values was very high around it\n",
    "\n",
    "pca = PCA(n_components=4)\n",
    "\n",
    "df_pca = pd.DataFrame(pca.fit_transform(df_std))"
   ]
  },
  {
   "cell_type": "code",
   "execution_count": 15,
   "metadata": {},
   "outputs": [
    {
     "data": {
      "text/html": [
       "<div>\n",
       "<style scoped>\n",
       "    .dataframe tbody tr th:only-of-type {\n",
       "        vertical-align: middle;\n",
       "    }\n",
       "\n",
       "    .dataframe tbody tr th {\n",
       "        vertical-align: top;\n",
       "    }\n",
       "\n",
       "    .dataframe thead th {\n",
       "        text-align: right;\n",
       "    }\n",
       "</style>\n",
       "<table border=\"1\" class=\"dataframe\">\n",
       "  <thead>\n",
       "    <tr style=\"text-align: right;\">\n",
       "      <th></th>\n",
       "      <th>0</th>\n",
       "      <th>1</th>\n",
       "      <th>2</th>\n",
       "      <th>3</th>\n",
       "    </tr>\n",
       "  </thead>\n",
       "  <tbody>\n",
       "    <tr>\n",
       "      <th>0</th>\n",
       "      <td>-2.596229</td>\n",
       "      <td>-0.171497</td>\n",
       "      <td>-1.071034</td>\n",
       "      <td>0.059703</td>\n",
       "    </tr>\n",
       "    <tr>\n",
       "      <th>1</th>\n",
       "      <td>-0.325228</td>\n",
       "      <td>1.774175</td>\n",
       "      <td>3.789276</td>\n",
       "      <td>1.530645</td>\n",
       "    </tr>\n",
       "    <tr>\n",
       "      <th>2</th>\n",
       "      <td>-0.233322</td>\n",
       "      <td>-0.315416</td>\n",
       "      <td>-0.519626</td>\n",
       "      <td>-1.795153</td>\n",
       "    </tr>\n",
       "    <tr>\n",
       "      <th>3</th>\n",
       "      <td>-2.148961</td>\n",
       "      <td>0.150073</td>\n",
       "      <td>-0.421820</td>\n",
       "      <td>-1.629857</td>\n",
       "    </tr>\n",
       "    <tr>\n",
       "      <th>4</th>\n",
       "      <td>1.021615</td>\n",
       "      <td>2.109443</td>\n",
       "      <td>-1.616171</td>\n",
       "      <td>-1.537228</td>\n",
       "    </tr>\n",
       "  </tbody>\n",
       "</table>\n",
       "</div>"
      ],
      "text/plain": [
       "          0         1         2         3\n",
       "0 -2.596229 -0.171497 -1.071034  0.059703\n",
       "1 -0.325228  1.774175  3.789276  1.530645\n",
       "2 -0.233322 -0.315416 -0.519626 -1.795153\n",
       "3 -2.148961  0.150073 -0.421820 -1.629857\n",
       "4  1.021615  2.109443 -1.616171 -1.537228"
      ]
     },
     "execution_count": 15,
     "metadata": {},
     "output_type": "execute_result"
    }
   ],
   "source": [
    "df_pca.head()"
   ]
  },
  {
   "cell_type": "code",
   "execution_count": 16,
   "metadata": {},
   "outputs": [
    {
     "data": {
      "text/html": [
       "<div>\n",
       "<style scoped>\n",
       "    .dataframe tbody tr th:only-of-type {\n",
       "        vertical-align: middle;\n",
       "    }\n",
       "\n",
       "    .dataframe tbody tr th {\n",
       "        vertical-align: top;\n",
       "    }\n",
       "\n",
       "    .dataframe thead th {\n",
       "        text-align: right;\n",
       "    }\n",
       "</style>\n",
       "<table border=\"1\" class=\"dataframe\">\n",
       "  <thead>\n",
       "    <tr style=\"text-align: right;\">\n",
       "      <th></th>\n",
       "      <th>0</th>\n",
       "      <th>1</th>\n",
       "      <th>2</th>\n",
       "      <th>3</th>\n",
       "    </tr>\n",
       "  </thead>\n",
       "  <tbody>\n",
       "    <tr>\n",
       "      <th>0</th>\n",
       "      <td>1.000000e+00</td>\n",
       "      <td>3.914603e-16</td>\n",
       "      <td>-2.276153e-17</td>\n",
       "      <td>8.619563e-17</td>\n",
       "    </tr>\n",
       "    <tr>\n",
       "      <th>1</th>\n",
       "      <td>3.914603e-16</td>\n",
       "      <td>1.000000e+00</td>\n",
       "      <td>6.504415e-17</td>\n",
       "      <td>-1.199098e-17</td>\n",
       "    </tr>\n",
       "    <tr>\n",
       "      <th>2</th>\n",
       "      <td>-2.276153e-17</td>\n",
       "      <td>6.504415e-17</td>\n",
       "      <td>1.000000e+00</td>\n",
       "      <td>-7.323289e-17</td>\n",
       "    </tr>\n",
       "    <tr>\n",
       "      <th>3</th>\n",
       "      <td>8.619563e-17</td>\n",
       "      <td>-1.199098e-17</td>\n",
       "      <td>-7.323289e-17</td>\n",
       "      <td>1.000000e+00</td>\n",
       "    </tr>\n",
       "  </tbody>\n",
       "</table>\n",
       "</div>"
      ],
      "text/plain": [
       "              0             1             2             3\n",
       "0  1.000000e+00  3.914603e-16 -2.276153e-17  8.619563e-17\n",
       "1  3.914603e-16  1.000000e+00  6.504415e-17 -1.199098e-17\n",
       "2 -2.276153e-17  6.504415e-17  1.000000e+00 -7.323289e-17\n",
       "3  8.619563e-17 -1.199098e-17 -7.323289e-17  1.000000e+00"
      ]
     },
     "execution_count": 16,
     "metadata": {},
     "output_type": "execute_result"
    }
   ],
   "source": [
    "df_pca.corr()"
   ]
  },
  {
   "attachments": {},
   "cell_type": "markdown",
   "metadata": {},
   "source": [
    "Start clusterring !!!!!!!!!"
   ]
  },
  {
   "cell_type": "code",
   "execution_count": 17,
   "metadata": {},
   "outputs": [],
   "source": [
    "df_row = df_pca.copy()"
   ]
  },
  {
   "attachments": {},
   "cell_type": "markdown",
   "metadata": {},
   "source": [
    "DBSCAN"
   ]
  },
  {
   "cell_type": "code",
   "execution_count": 18,
   "metadata": {},
   "outputs": [
    {
     "data": {
      "text/plain": [
       "array([[0.        , 0.03017933, 0.05585452, 0.06839215, 0.19251319],\n",
       "       [0.        , 0.31307531, 0.36364998, 0.54046564, 0.85867943],\n",
       "       [0.        , 0.14089442, 0.20099595, 0.20833352, 0.22013626],\n",
       "       ...,\n",
       "       [0.        , 0.18349378, 0.25262498, 0.32747497, 0.34151449],\n",
       "       [0.        , 0.4531026 , 0.48088588, 0.4821285 , 0.49541065],\n",
       "       [0.        , 0.54779981, 0.54877854, 0.55543207, 0.59957198]])"
      ]
     },
     "execution_count": 18,
     "metadata": {},
     "output_type": "execute_result"
    }
   ],
   "source": [
    "# we ask for nearest\n",
    "# to choose eps\n",
    "nn = NearestNeighbors()\n",
    "\n",
    "nn.fit(df_row)\n",
    "\n",
    "distances, neighbors = nn.kneighbors(df_row)\n",
    "\n",
    "distances"
   ]
  },
  {
   "cell_type": "code",
   "execution_count": 19,
   "metadata": {},
   "outputs": [],
   "source": [
    "# sort the distances\n",
    "distances = np.sort(distances[:, 4], axis = 0)"
   ]
  },
  {
   "cell_type": "code",
   "execution_count": 20,
   "metadata": {},
   "outputs": [
    {
     "name": "stderr",
     "output_type": "stream",
     "text": [
      "c:\\Users\\pop\\anaconda3\\lib\\site-packages\\plotnine\\ggplot.py:718: PlotnineWarning: Saving 6.4 x 4.8 in image.\n",
      "c:\\Users\\pop\\anaconda3\\lib\\site-packages\\plotnine\\ggplot.py:719: PlotnineWarning: Filename: elbow.png\n"
     ]
    },
    {
     "data": {
      "image/png": "[encoded data removed]",
      "text/plain": [
       "<Figure size 640x480 with 1 Axes>"
      ]
     },
     "metadata": {},
     "output_type": "display_data"
    },
    {
     "data": {
      "text/plain": [
       "<ggplot: (119270410563)>"
      ]
     },
     "execution_count": 20,
     "metadata": {},
     "output_type": "execute_result"
    }
   ],
   "source": [
    "#plot the distances\n",
    "distances_df = pd.DataFrame({\"distances\": distances,\n",
    "                             \"index\": list(range(0,len(distances)))})\n",
    "our_plt = (ggplot(distances_df, aes(x = \"index\", y = \"distances\")) +\n",
    " geom_line(color = \"white\", size = 2) + theme_minimal() +\n",
    " labs(title = \"Elbow Method for Choosing eps\") +\n",
    " theme(panel_grid_minor = element_blank(),\n",
    "      rect = element_rect(fill = \"#202124ff\"),\n",
    "      axis_text = element_text(color = \"white\"),\n",
    "      axis_title = element_text(color = \"white\"),\n",
    "      plot_title = element_text(color = \"white\"),\n",
    "      panel_border = element_line(color = \"darkgray\"),\n",
    "      plot_background = element_rect(fill = \"#202124ff\")\n",
    "      ))\n",
    "ggsave(plot=our_plt, filename='elbow.png', dpi=300)\n",
    "\n",
    "our_plt"
   ]
  },
  {
   "cell_type": "code",
   "execution_count": 21,
   "metadata": {},
   "outputs": [],
   "source": [
    "# according to elbow i choosed eps equal 1"
   ]
  },
  {
   "cell_type": "code",
   "execution_count": 22,
   "metadata": {},
   "outputs": [
    {
     "name": "stdout",
     "output_type": "stream",
     "text": [
      "for eps = 1 and min_samples = 10 silhouette_score = 0.29929605484877897\n",
      "for eps = 1 and min_samples = 11 silhouette_score = 0.2485087080249217\n",
      "for eps = 1 and min_samples = 12 silhouette_score = 0.33739267643122606\n",
      "for eps = 1 and min_samples = 13 silhouette_score = 0.4793855055742035\n",
      "for eps = 1 and min_samples = 14 silhouette_score = 0.5334345124879697\n",
      "for eps = 1 and min_samples = 15 silhouette_score = 0.5292189410120223\n",
      "for eps = 1 and min_samples = 16 silhouette_score = 0.5250127907322042\n",
      "for eps = 1 and min_samples = 17 silhouette_score = 0.5198870378702631\n",
      "for eps = 1 and min_samples = 18 silhouette_score = 0.5158853375095912\n",
      "for eps = 1 and min_samples = 19 silhouette_score = 0.5108873103164776\n",
      "for eps = 1 and min_samples = 20 silhouette_score = 0.5062416854633833\n",
      "for eps = 1 and min_samples = 21 silhouette_score = 0.3703950746192632\n",
      "for eps = 1 and min_samples = 22 silhouette_score = 0.3692842177504651\n",
      "for eps = 1 and min_samples = 23 silhouette_score = 0.36848806726035294\n",
      "for eps = 1 and min_samples = 24 silhouette_score = 0.3642125566562248\n"
     ]
    }
   ],
   "source": [
    "for k in range (10,25):\n",
    "        df_row_DB = DBSCAN(eps = 1, min_samples = k).fit(df_row)\n",
    "        assignments = df_row_DB.labels_\n",
    "        ss_= silhouette_score(df_row , assignments )\n",
    "        print (f\"for eps = {1} and min_samples = {k} silhouette_score = {ss_}\")"
   ]
  },
  {
   "cell_type": "code",
   "execution_count": 23,
   "metadata": {},
   "outputs": [
    {
     "data": {
      "text/plain": [
       "2"
      ]
     },
     "execution_count": 23,
     "metadata": {},
     "output_type": "execute_result"
    }
   ],
   "source": [
    "# for eps = 1 and min_samples = 14 silhouette_score = 0.5334345124879697 and two clusters\n",
    "df_row_DB = DBSCAN(eps =1, min_samples =14).fit(df_row)\n",
    "assignments = df_row_DB.labels_\n",
    "ss_= silhouette_score(df_row , assignments )\n",
    "np.unique(assignments).shape[0]"
   ]
  },
  {
   "attachments": {},
   "cell_type": "markdown",
   "metadata": {},
   "source": [
    "Kmeans"
   ]
  },
  {
   "cell_type": "code",
   "execution_count": 24,
   "metadata": {},
   "outputs": [],
   "source": [
    "df_row = df_pca.copy()"
   ]
  },
  {
   "cell_type": "code",
   "execution_count": 25,
   "metadata": {},
   "outputs": [],
   "source": [
    "# ploting elbow to find the best k\n",
    "cl=[]\n",
    "x =[]\n",
    "for k in range(2,10):\n",
    "    kmeans = KMeans(n_clusters=k, max_iter=50)\n",
    "    kmeans.fit(df_row)\n",
    "    cl.append(kmeans.inertia_)\n",
    "    x. append(k)"
   ]
  },
  {
   "cell_type": "code",
   "execution_count": 26,
   "metadata": {},
   "outputs": [
    {
     "name": "stderr",
     "output_type": "stream",
     "text": [
      "c:\\Users\\pop\\anaconda3\\lib\\site-packages\\seaborn\\_decorators.py:36: FutureWarning: Pass the following variables as keyword args: x, y. From version 0.12, the only valid positional argument will be `data`, and passing other arguments without an explicit keyword will result in an error or misinterpretation.\n"
     ]
    },
    {
     "data": {
      "text/plain": [
       "<AxesSubplot:>"
      ]
     },
     "execution_count": 26,
     "metadata": {},
     "output_type": "execute_result"
    },
    {
     "data": {
      "image/png": "[encoded data removed]",
      "text/plain": [
       "<Figure size 640x480 with 1 Axes>"
      ]
     },
     "metadata": {},
     "output_type": "display_data"
    }
   ],
   "source": [
    "sns.lineplot(x,cl)"
   ]
  },
  {
   "cell_type": "code",
   "execution_count": 27,
   "metadata": {},
   "outputs": [
    {
     "data": {
      "text/plain": [
       "0.4432738386931243"
      ]
     },
     "execution_count": 27,
     "metadata": {},
     "output_type": "execute_result"
    }
   ],
   "source": [
    "# n_clusters=6 , silhouette_score = 0.4432738386931243\n",
    "kmeans = KMeans(n_clusters=6, max_iter=100)\n",
    "kmeans.fit(df_row)\n",
    "\n",
    "silhouette_score(df_row, kmeans.fit_predict(df_row))"
   ]
  },
  {
   "attachments": {},
   "cell_type": "markdown",
   "metadata": {},
   "source": [
    "Heirarical with silhouette_score = 0.7332953569600494\n",
    "the best results\n"
   ]
  },
  {
   "cell_type": "code",
   "execution_count": 28,
   "metadata": {},
   "outputs": [],
   "source": [
    "df_row = df_pca.copy()"
   ]
  },
  {
   "cell_type": "code",
   "execution_count": 29,
   "metadata": {},
   "outputs": [],
   "source": [
    "# plotting silhouette_scores to choose k\n",
    "silhouette_scores = [] \n",
    "from sklearn.cluster import AgglomerativeClustering\n",
    "for k in range(2, 10):\n",
    "    silhouette_scores.append( \n",
    "        silhouette_score(df_row, AgglomerativeClustering(n_clusters = k).fit_predict(df_row))) "
   ]
  },
  {
   "cell_type": "code",
   "execution_count": 30,
   "metadata": {},
   "outputs": [
    {
     "name": "stderr",
     "output_type": "stream",
     "text": [
      "c:\\Users\\pop\\anaconda3\\lib\\site-packages\\seaborn\\_decorators.py:36: FutureWarning: Pass the following variables as keyword args: x, y. From version 0.12, the only valid positional argument will be `data`, and passing other arguments without an explicit keyword will result in an error or misinterpretation.\n"
     ]
    },
    {
     "data": {
      "text/plain": [
       "<AxesSubplot:>"
      ]
     },
     "execution_count": 30,
     "metadata": {},
     "output_type": "execute_result"
    },
    {
     "data": {
      "image/png": "[encoded data removed]",
      "text/plain": [
       "<Figure size 640x480 with 1 Axes>"
      ]
     },
     "metadata": {},
     "output_type": "display_data"
    }
   ],
   "source": [
    "# Plotting a bar graph to compare the results \n",
    "k = [2, 3, 4, 5, 6,7,8,9] \n",
    "sns.barplot(k, silhouette_scores) "
   ]
  },
  {
   "cell_type": "code",
   "execution_count": 31,
   "metadata": {},
   "outputs": [
    {
     "name": "stdout",
     "output_type": "stream",
     "text": [
      "0.7332953569600494\n"
     ]
    }
   ],
   "source": [
    "agg=AgglomerativeClustering(n_clusters = 2)\n",
    "print(silhouette_score(df_row, AgglomerativeClustering(n_clusters = 2).fit_predict(df_row)))"
   ]
  },
  {
   "attachments": {},
   "cell_type": "markdown",
   "metadata": {},
   "source": [
    "Gaussian Mixture"
   ]
  },
  {
   "cell_type": "code",
   "execution_count": 32,
   "metadata": {},
   "outputs": [],
   "source": [
    "df_row = df_pca.copy()"
   ]
  },
  {
   "cell_type": "code",
   "execution_count": 33,
   "metadata": {},
   "outputs": [
    {
     "data": {
      "image/png": "[encoded data removed]",
      "text/plain": [
       "<Figure size 640x480 with 1 Axes>"
      ]
     },
     "metadata": {},
     "output_type": "display_data"
    }
   ],
   "source": [
    "from sklearn.mixture import GaussianMixture\n",
    "# plotting silhouette_scores to choose k\n",
    "silhouette_scores2 =[]\n",
    "ks = []  \n",
    "for k in range(2,10) :\n",
    "    gmm = GaussianMixture(n_components=k)\n",
    "    gmm.fit(df_row)\n",
    "    labels = gmm.predict(df_row)\n",
    "    silhouette_scores2.append( \n",
    "        silhouette_score(df_row,labels )) \n",
    "    ks.append(k)\n",
    "    # Plotting a bar graph to compare the results \n",
    "k = [] \n",
    "plt.bar(ks, silhouette_scores2) \n",
    "plt.show()"
   ]
  },
  {
   "cell_type": "code",
   "execution_count": 34,
   "metadata": {},
   "outputs": [
    {
     "data": {
      "text/plain": [
       "0.3828269106568023"
      ]
     },
     "execution_count": 34,
     "metadata": {},
     "output_type": "execute_result"
    }
   ],
   "source": [
    "gmm = GaussianMixture(n_components=2)\n",
    "gmm.fit(df_row)\n",
    "labels = gmm.predict(df_row)\n",
    "silhouette_score(df_row,labels )"
   ]
  },
  {
   "cell_type": "code",
   "execution_count": null,
   "metadata": {},
   "outputs": [],
   "source": []
  },
  {
   "cell_type": "code",
   "execution_count": null,
   "metadata": {},
   "outputs": [],
   "source": []
  }
 ],
 "metadata": {
  "kernelspec": {
   "display_name": "base",
   "language": "python",
   "name": "python3"
  },
  "language_info": {
   "codemirror_mode": {
    "name": "ipython",
    "version": 3
   },
   "file_extension": ".py",
   "mimetype": "text/x-python",
   "name": "python",
   "nbconvert_exporter": "python",
   "pygments_lexer": "ipython3",
   "version": "3.9.13"
  },
  "orig_nbformat": 4,
  "vscode": {
   "interpreter": {
    "hash": "a3440b8b0d77b37749875a084ed3933dc65d85e876557744a47141c1823e3788"
   }
  }
 },
 "nbformat": 4,
 "nbformat_minor": 2
}
